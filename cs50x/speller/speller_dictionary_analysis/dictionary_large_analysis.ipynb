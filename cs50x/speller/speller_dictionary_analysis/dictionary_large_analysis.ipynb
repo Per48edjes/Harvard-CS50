{
 "cells": [
  {
   "cell_type": "markdown",
   "id": "d01fbb08-e85f-47ea-b896-d52bb6daa3df",
   "metadata": {},
   "source": [
    "# Analyzing `dictionary/large`\n",
    "Ravi Dayabhai"
   ]
  },
  {
   "cell_type": "code",
   "execution_count": 1,
   "id": "937996e3-7c12-44fe-8754-55446c682a12",
   "metadata": {},
   "outputs": [],
   "source": [
    "# Import dependencies\n",
    "import pandas as pd\n",
    "\n",
    "# Globals\n",
    "DICT_FILENAME = 'dictionary_large.txt'"
   ]
  },
  {
   "cell_type": "code",
   "execution_count": 2,
   "id": "fa197685-ba51-4b39-8f93-000715140db6",
   "metadata": {},
   "outputs": [
    {
     "data": {
      "text/plain": [
       "word          object\n",
       "len            int32\n",
       "letter_0:1    object\n",
       "letter_0:2    object\n",
       "word_has_'      bool\n",
       "dtype: object"
      ]
     },
     "execution_count": 2,
     "metadata": {},
     "output_type": "execute_result"
    }
   ],
   "source": [
    "# Read data in\n",
    "df = pd.read_table(DICT_FILENAME, sep=\" \", header=None, names=[\"word\"], keep_default_na=False)\n",
    "\n",
    "# Adding features\n",
    "df['len'] = df['word'].str.len().astype('int32')\n",
    "df['letter_0:1'] = df['word'].str.slice(0, 1)\n",
    "df['letter_0:2'] = df['word'].str.slice(0, 2)\n",
    "df[\"word_has_'\"] = df['word'].str.contains(\"'\")\n",
    "\n",
    "df.dtypes"
   ]
  },
  {
   "cell_type": "code",
   "execution_count": 15,
   "id": "ed787e50-1348-496f-9869-532fe1ad3d66",
   "metadata": {},
   "outputs": [
    {
     "data": {
      "text/html": [
       "<div>\n",
       "<style scoped>\n",
       "    .dataframe tbody tr th:only-of-type {\n",
       "        vertical-align: middle;\n",
       "    }\n",
       "\n",
       "    .dataframe tbody tr th {\n",
       "        vertical-align: top;\n",
       "    }\n",
       "\n",
       "    .dataframe thead th {\n",
       "        text-align: right;\n",
       "    }\n",
       "</style>\n",
       "<table border=\"1\" class=\"dataframe\">\n",
       "  <thead>\n",
       "    <tr style=\"text-align: right;\">\n",
       "      <th></th>\n",
       "      <th>word</th>\n",
       "      <th>len</th>\n",
       "      <th>letter_0:1</th>\n",
       "      <th>letter_0:2</th>\n",
       "      <th>word_has_'</th>\n",
       "    </tr>\n",
       "  </thead>\n",
       "  <tbody>\n",
       "    <tr>\n",
       "      <th>0</th>\n",
       "      <td>a</td>\n",
       "      <td>1</td>\n",
       "      <td>a</td>\n",
       "      <td>a</td>\n",
       "      <td>False</td>\n",
       "    </tr>\n",
       "    <tr>\n",
       "      <th>59877</th>\n",
       "      <td>i</td>\n",
       "      <td>1</td>\n",
       "      <td>i</td>\n",
       "      <td>i</td>\n",
       "      <td>False</td>\n",
       "    </tr>\n",
       "  </tbody>\n",
       "</table>\n",
       "</div>"
      ],
      "text/plain": [
       "      word  len letter_0:1 letter_0:2  word_has_'\n",
       "0        a    1          a          a       False\n",
       "59877    i    1          i          i       False"
      ]
     },
     "execution_count": 15,
     "metadata": {},
     "output_type": "execute_result"
    }
   ],
   "source": [
    "df[df[\"letter_0:2\"].str.len() == 1]"
   ]
  }
 ],
 "metadata": {
  "kernelspec": {
   "display_name": "Python 3 (ipykernel)",
   "language": "python",
   "name": "python3"
  },
  "language_info": {
   "codemirror_mode": {
    "name": "ipython",
    "version": 3
   },
   "file_extension": ".py",
   "mimetype": "text/x-python",
   "name": "python",
   "nbconvert_exporter": "python",
   "pygments_lexer": "ipython3",
   "version": "3.10.3"
  }
 },
 "nbformat": 4,
 "nbformat_minor": 5
}
